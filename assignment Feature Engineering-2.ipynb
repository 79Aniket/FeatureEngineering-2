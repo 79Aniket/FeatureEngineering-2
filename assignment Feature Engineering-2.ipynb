{
 "cells": [
  {
   "cell_type": "markdown",
   "id": "9f63e565-ca94-496e-8f6d-e39504e6a6a6",
   "metadata": {},
   "source": [
    "### Q2. How does the Wrapper method differ from the Filter method in feature selection?"
   ]
  },
  {
   "cell_type": "markdown",
   "id": "99fae498-bf3b-42d5-8f4f-4025a57279a6",
   "metadata": {},
   "source": [
    "## Filter methods select features based on their individual importance, without considering the interaction between features. They are typically faster than wrapper methods, but they may not be as effective in selecting the best subset of features.\n",
    "## Filter method : Features are independent, Less computationally expensive, More interpretable, May not be as effective in selecting the best subset of features\n",
    "\n",
    "\n",
    "\n",
    "## Wrapper methods select features by iteratively building and evaluating models with different subsets of features. They are more computationally expensive than filter methods, but they can be more effective in selecting the best subset of features.\n",
    "## Wrapper method : Features may be dependent, More computationally expensive, Less interpretable, Can be more effective in selecting the best subset of features\n"
   ]
  },
  {
   "cell_type": "code",
   "execution_count": null,
   "id": "aa3d06ce-cc17-493b-9e22-c3aa9cc89b39",
   "metadata": {},
   "outputs": [],
   "source": []
  },
  {
   "cell_type": "markdown",
   "id": "263ea4ec-7778-4b8e-b9a0-4b980b585644",
   "metadata": {},
   "source": [
    "## Q1. What is the Filter method in feature selection, and how does it work?"
   ]
  },
  {
   "cell_type": "markdown",
   "id": "307de3fc-5385-4feb-8526-13a91055e176",
   "metadata": {},
   "source": [
    "## The filter method filters out the irrelevant feature and redundant columns from the model by using different metrics through ranking. The advantage of using filter methods is that it needs low computational time and does not overfit the data.\n"
   ]
  },
  {
   "cell_type": "code",
   "execution_count": null,
   "id": "284ff3e1-ee33-4f86-9926-2835b8a52288",
   "metadata": {},
   "outputs": [],
   "source": []
  },
  {
   "cell_type": "markdown",
   "id": "a1030c67-c9dc-4f7f-8b0b-2ce75c511fa3",
   "metadata": {},
   "source": [
    "## Q3. What are some common techniques used in Embedded feature selection methods?"
   ]
  },
  {
   "cell_type": "markdown",
   "id": "97728598-db0b-4307-9e02-2db7f7427f3f",
   "metadata": {},
   "source": [
    "## Some common techniques used in Embedded feature selection methods : Regularization, Decision trees, Wrapper methods, Lasso regression\n",
    "\n",
    "## "
   ]
  },
  {
   "cell_type": "code",
   "execution_count": null,
   "id": "960b747a-b66a-4ee1-afc5-5526fdce269a",
   "metadata": {},
   "outputs": [],
   "source": []
  },
  {
   "cell_type": "markdown",
   "id": "c557c6b5-7b21-4598-96da-27b2f23d55c6",
   "metadata": {},
   "source": [
    "##  Q4. What are some drawbacks of using the Filter method for feature selection?"
   ]
  },
  {
   "cell_type": "markdown",
   "id": "24ce374a-962c-4f8f-981f-834ea61df971",
   "metadata": {},
   "source": [
    "## It ignores the interaction between features.\n",
    "## It is not always clear how to choose the threshold for selecting features.\n",
    "## It can be computationally expensive for large datasets"
   ]
  },
  {
   "cell_type": "code",
   "execution_count": null,
   "id": "ba91f809-dcda-4dd3-874b-d896ad65ef26",
   "metadata": {},
   "outputs": [],
   "source": []
  },
  {
   "cell_type": "markdown",
   "id": "301dbdcd-2c03-4cc3-80aa-ce3cb87cb30a",
   "metadata": {},
   "source": [
    "## Q5. In which situations would you prefer using the Filter method over the Wrapper method for feature  selection?"
   ]
  },
  {
   "cell_type": "markdown",
   "id": "578aa443-588e-407d-8a2b-bbfb6e0dcc7d",
   "metadata": {},
   "source": [
    "## When you have a limited amount of time or resources.\n",
    "## When you have a large dataset.\n",
    "## When you want to avoid overfitting.\n",
    "## When you are not sure which features are important."
   ]
  },
  {
   "cell_type": "code",
   "execution_count": null,
   "id": "7e65d6e8-985f-4cbb-bd3b-4b1cfaea036b",
   "metadata": {},
   "outputs": [],
   "source": []
  },
  {
   "cell_type": "code",
   "execution_count": null,
   "id": "d4e1a1a5-bda3-4568-81e3-6782cde0e938",
   "metadata": {},
   "outputs": [],
   "source": []
  }
 ],
 "metadata": {
  "kernelspec": {
   "display_name": "Python 3 (ipykernel)",
   "language": "python",
   "name": "python3"
  },
  "language_info": {
   "codemirror_mode": {
    "name": "ipython",
    "version": 3
   },
   "file_extension": ".py",
   "mimetype": "text/x-python",
   "name": "python",
   "nbconvert_exporter": "python",
   "pygments_lexer": "ipython3",
   "version": "3.10.8"
  }
 },
 "nbformat": 4,
 "nbformat_minor": 5
}
